{
 "cells": [
  {
   "cell_type": "markdown",
   "id": "554639f7",
   "metadata": {},
   "source": [
    "# View Data"
   ]
  },
  {
   "cell_type": "code",
   "execution_count": 1,
   "id": "86f42b21",
   "metadata": {},
   "outputs": [],
   "source": [
    "import pandas as pd"
   ]
  },
  {
   "cell_type": "code",
   "execution_count": 9,
   "id": "f10b2bd3",
   "metadata": {},
   "outputs": [],
   "source": [
    "skill_exposure = pd.read_parquet('../skill_exposure.parquet')\n",
    "indeed_jobs = pd.read_parquet('../data/skills_dataset.parquet')"
   ]
  },
  {
   "cell_type": "code",
   "execution_count": 36,
   "id": "cdae5c83",
   "metadata": {},
   "outputs": [],
   "source": [
    "(indeed_jobs\n",
    " [['job']]\n",
    " .drop_duplicates()\n",
    " .reset_index(drop=True)\n",
    " [372:]\n",
    ").to_excel('../jobs_ruben.xlsx', index=False)"
   ]
  },
  {
   "cell_type": "code",
   "execution_count": null,
   "id": "c544c7ee-079c-471e-8939-96701d75c7c6",
   "metadata": {},
   "outputs": [],
   "source": []
  }
 ],
 "metadata": {
  "kernelspec": {
   "display_name": "Python 3 (ipykernel)",
   "language": "python",
   "name": "python3"
  },
  "language_info": {
   "codemirror_mode": {
    "name": "ipython",
    "version": 3
   },
   "file_extension": ".py",
   "mimetype": "text/x-python",
   "name": "python",
   "nbconvert_exporter": "python",
   "pygments_lexer": "ipython3",
   "version": "3.10.9"
  }
 },
 "nbformat": 4,
 "nbformat_minor": 5
}
