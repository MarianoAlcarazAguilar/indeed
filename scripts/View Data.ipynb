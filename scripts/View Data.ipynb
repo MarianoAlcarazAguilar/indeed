{
 "cells": [
  {
   "cell_type": "markdown",
   "id": "554639f7",
   "metadata": {},
   "source": [
    "# View Data"
   ]
  },
  {
   "cell_type": "code",
   "execution_count": 1,
   "id": "86f42b21",
   "metadata": {},
   "outputs": [],
   "source": [
    "import pandas as pd"
   ]
  },
  {
   "cell_type": "code",
   "execution_count": 38,
   "id": "f10b2bd3",
   "metadata": {},
   "outputs": [],
   "source": [
    "skill_exposure = pd.read_parquet('../skill_exposure.parquet')\n",
    "indeed_jobs = pd.read_parquet('../data/skills_dataset.parquet')\n",
    "o_net_jobs = pd.read_excel('../../o-net/Work Activities.xlsx')"
   ]
  },
  {
   "cell_type": "code",
   "execution_count": 53,
   "id": "cdae5c83",
   "metadata": {},
   "outputs": [],
   "source": [
    "(o_net_jobs\n",
    " [['O*NET-SOC Code', 'Title']]\n",
    " .drop_duplicates()\n",
    " .reset_index(drop=True)\n",
    " .rename({'O*NET-SOC Code':'soc_code', 'Title':'job'}, axis=1)\n",
    " .to_parquet('../o_net_jobs.parquet', index=False)\n",
    ")"
   ]
  },
  {
   "cell_type": "code",
   "execution_count": null,
   "id": "c544c7ee-079c-471e-8939-96701d75c7c6",
   "metadata": {},
   "outputs": [],
   "source": []
  }
 ],
 "metadata": {
  "kernelspec": {
   "display_name": "Python 3 (ipykernel)",
   "language": "python",
   "name": "python3"
  },
  "language_info": {
   "codemirror_mode": {
    "name": "ipython",
    "version": 3
   },
   "file_extension": ".py",
   "mimetype": "text/x-python",
   "name": "python",
   "nbconvert_exporter": "python",
   "pygments_lexer": "ipython3",
   "version": "3.10.9"
  }
 },
 "nbformat": 4,
 "nbformat_minor": 5
}
