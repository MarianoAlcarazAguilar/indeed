{
 "cells": [
  {
   "cell_type": "markdown",
   "id": "554639f7",
   "metadata": {},
   "source": [
    "# View Data"
   ]
  },
  {
   "cell_type": "code",
   "execution_count": 16,
   "id": "c006a06a",
   "metadata": {},
   "outputs": [],
   "source": [
    "pd.options.display.max_colwidth = 50"
   ]
  },
  {
   "cell_type": "code",
   "execution_count": 1,
   "id": "86f42b21",
   "metadata": {},
   "outputs": [],
   "source": [
    "import pandas as pd"
   ]
  },
  {
   "cell_type": "code",
   "execution_count": 2,
   "id": "f10b2bd3",
   "metadata": {},
   "outputs": [],
   "source": [
    "datos = pd.read_parquet('../data/skills_dataset.parquet')"
   ]
  },
  {
   "cell_type": "code",
   "execution_count": 26,
   "id": "7f298e96",
   "metadata": {},
   "outputs": [
    {
     "data": {
      "text/html": [
       "<div>\n",
       "<style scoped>\n",
       "    .dataframe tbody tr th:only-of-type {\n",
       "        vertical-align: middle;\n",
       "    }\n",
       "\n",
       "    .dataframe tbody tr th {\n",
       "        vertical-align: top;\n",
       "    }\n",
       "\n",
       "    .dataframe thead th {\n",
       "        text-align: right;\n",
       "    }\n",
       "</style>\n",
       "<table border=\"1\" class=\"dataframe\">\n",
       "  <thead>\n",
       "    <tr style=\"text-align: right;\">\n",
       "      <th></th>\n",
       "      <th>skill</th>\n",
       "    </tr>\n",
       "    <tr>\n",
       "      <th>n_skill</th>\n",
       "      <th></th>\n",
       "    </tr>\n",
       "  </thead>\n",
       "  <tbody>\n",
       "    <tr>\n",
       "      <th>1</th>\n",
       "      <td>Act as the figurative head of the organization...</td>\n",
       "    </tr>\n",
       "    <tr>\n",
       "      <th>2</th>\n",
       "      <td>Lead the development of the organization’s lon...</td>\n",
       "    </tr>\n",
       "    <tr>\n",
       "      <th>3</th>\n",
       "      <td>Manage overall operations and make major decis...</td>\n",
       "    </tr>\n",
       "    <tr>\n",
       "      <th>4</th>\n",
       "      <td>Manage the organization’s resources.</td>\n",
       "    </tr>\n",
       "    <tr>\n",
       "      <th>5</th>\n",
       "      <td>Negotiate or approve agreements and contracts ...</td>\n",
       "    </tr>\n",
       "    <tr>\n",
       "      <th>6</th>\n",
       "      <td>Manage company organizational structure.</td>\n",
       "    </tr>\n",
       "    <tr>\n",
       "      <th>7</th>\n",
       "      <td>Communicate with the board of directors.</td>\n",
       "    </tr>\n",
       "    <tr>\n",
       "      <th>8</th>\n",
       "      <td>Assess and minimize risks to the company.</td>\n",
       "    </tr>\n",
       "    <tr>\n",
       "      <th>9</th>\n",
       "      <td>Set strategic goals.</td>\n",
       "    </tr>\n",
       "    <tr>\n",
       "      <th>10</th>\n",
       "      <td>Provide company-wide leadership.</td>\n",
       "    </tr>\n",
       "  </tbody>\n",
       "</table>\n",
       "</div>"
      ],
      "text/plain": [
       "                                                     skill\n",
       "n_skill                                                   \n",
       "1        Act as the figurative head of the organization...\n",
       "2        Lead the development of the organization’s lon...\n",
       "3        Manage overall operations and make major decis...\n",
       "4                     Manage the organization’s resources.\n",
       "5        Negotiate or approve agreements and contracts ...\n",
       "6                 Manage company organizational structure.\n",
       "7                 Communicate with the board of directors.\n",
       "8                Assess and minimize risks to the company.\n",
       "9                                     Set strategic goals.\n",
       "10                        Provide company-wide leadership."
      ]
     },
     "execution_count": 26,
     "metadata": {},
     "output_type": "execute_result"
    }
   ],
   "source": [
    "datos.query('job == \"ceo-chief-executive-officer\"').set_index('n_skill').drop(['job'], axis=1).head(10)"
   ]
  },
  {
   "cell_type": "code",
   "execution_count": 22,
   "id": "ea82cf91",
   "metadata": {},
   "outputs": [],
   "source": [
    "datos_onet = pd.read_clipboard()"
   ]
  },
  {
   "cell_type": "code",
   "execution_count": 27,
   "id": "381191b4",
   "metadata": {},
   "outputs": [
    {
     "data": {
      "text/html": [
       "<div>\n",
       "<style scoped>\n",
       "    .dataframe tbody tr th:only-of-type {\n",
       "        vertical-align: middle;\n",
       "    }\n",
       "\n",
       "    .dataframe tbody tr th {\n",
       "        vertical-align: top;\n",
       "    }\n",
       "\n",
       "    .dataframe thead th {\n",
       "        text-align: right;\n",
       "    }\n",
       "</style>\n",
       "<table border=\"1\" class=\"dataframe\">\n",
       "  <thead>\n",
       "    <tr style=\"text-align: right;\">\n",
       "      <th>Scale Name</th>\n",
       "      <th>Element Name</th>\n",
       "      <th>Importance</th>\n",
       "      <th>Level</th>\n",
       "    </tr>\n",
       "  </thead>\n",
       "  <tbody>\n",
       "    <tr>\n",
       "      <th>0</th>\n",
       "      <td>Analyzing Data or Information</td>\n",
       "      <td>4.38</td>\n",
       "      <td>4.84</td>\n",
       "    </tr>\n",
       "    <tr>\n",
       "      <th>1</th>\n",
       "      <td>Assisting and Caring for Others</td>\n",
       "      <td>3.31</td>\n",
       "      <td>3.10</td>\n",
       "    </tr>\n",
       "    <tr>\n",
       "      <th>2</th>\n",
       "      <td>Coaching and Developing Others</td>\n",
       "      <td>4.71</td>\n",
       "      <td>5.85</td>\n",
       "    </tr>\n",
       "    <tr>\n",
       "      <th>3</th>\n",
       "      <td>Communicating with People Outside the Organiza...</td>\n",
       "      <td>4.55</td>\n",
       "      <td>5.47</td>\n",
       "    </tr>\n",
       "    <tr>\n",
       "      <th>4</th>\n",
       "      <td>Communicating with Supervisors, Peers, or Subo...</td>\n",
       "      <td>4.75</td>\n",
       "      <td>5.82</td>\n",
       "    </tr>\n",
       "    <tr>\n",
       "      <th>5</th>\n",
       "      <td>Controlling Machines and Processes</td>\n",
       "      <td>2.04</td>\n",
       "      <td>1.82</td>\n",
       "    </tr>\n",
       "    <tr>\n",
       "      <th>6</th>\n",
       "      <td>Coordinating the Work and Activities of Others</td>\n",
       "      <td>4.10</td>\n",
       "      <td>5.60</td>\n",
       "    </tr>\n",
       "    <tr>\n",
       "      <th>7</th>\n",
       "      <td>Developing Objectives and Strategies</td>\n",
       "      <td>4.57</td>\n",
       "      <td>5.46</td>\n",
       "    </tr>\n",
       "    <tr>\n",
       "      <th>8</th>\n",
       "      <td>Developing and Building Teams</td>\n",
       "      <td>4.63</td>\n",
       "      <td>5.38</td>\n",
       "    </tr>\n",
       "    <tr>\n",
       "      <th>9</th>\n",
       "      <td>Documenting/Recording Information</td>\n",
       "      <td>3.60</td>\n",
       "      <td>3.80</td>\n",
       "    </tr>\n",
       "  </tbody>\n",
       "</table>\n",
       "</div>"
      ],
      "text/plain": [
       "Scale Name                                       Element Name  Importance  \\\n",
       "0                               Analyzing Data or Information        4.38   \n",
       "1                             Assisting and Caring for Others        3.31   \n",
       "2                              Coaching and Developing Others        4.71   \n",
       "3           Communicating with People Outside the Organiza...        4.55   \n",
       "4           Communicating with Supervisors, Peers, or Subo...        4.75   \n",
       "5                          Controlling Machines and Processes        2.04   \n",
       "6              Coordinating the Work and Activities of Others        4.10   \n",
       "7                        Developing Objectives and Strategies        4.57   \n",
       "8                               Developing and Building Teams        4.63   \n",
       "9                           Documenting/Recording Information        3.60   \n",
       "\n",
       "Scale Name  Level  \n",
       "0            4.84  \n",
       "1            3.10  \n",
       "2            5.85  \n",
       "3            5.47  \n",
       "4            5.82  \n",
       "5            1.82  \n",
       "6            5.60  \n",
       "7            5.46  \n",
       "8            5.38  \n",
       "9            3.80  "
      ]
     },
     "execution_count": 27,
     "metadata": {},
     "output_type": "execute_result"
    }
   ],
   "source": [
    "datos_onet.pivot(index='Element Name', columns='Scale Name', values='Data Value').reset_index().head(10)"
   ]
  },
  {
   "cell_type": "code",
   "execution_count": null,
   "id": "cdae5c83",
   "metadata": {},
   "outputs": [],
   "source": []
  }
 ],
 "metadata": {
  "kernelspec": {
   "display_name": "Python 3 (ipykernel)",
   "language": "python",
   "name": "python3"
  },
  "language_info": {
   "codemirror_mode": {
    "name": "ipython",
    "version": 3
   },
   "file_extension": ".py",
   "mimetype": "text/x-python",
   "name": "python",
   "nbconvert_exporter": "python",
   "pygments_lexer": "ipython3",
   "version": "3.10.9"
  }
 },
 "nbformat": 4,
 "nbformat_minor": 5
}
